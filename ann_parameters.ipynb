{
 "cells": [
  {
   "cell_type": "markdown",
   "id": "b03e33a9-7f41-49ce-a6ba-c1c5dbe86cf3",
   "metadata": {},
   "source": [
    "## sklearn.neural_network.MLPRegressor sınıfının alabildiği parametreleri inceleyelim."
   ]
  },
  {
   "cell_type": "markdown",
   "id": "229cc047-4542-41ed-9c74-70a64041c419",
   "metadata": {},
   "source": [
    "### hidden_layer_sizes: Bu parametre, gizli katmanların yapısını belirler. Bir tuple olarak belirtilir ve her bir öğe, bir gizli katmandaki nöron sayısını temsil eder. Örneğin, '(100,)' parametresi tek bir gizli katmanı 100 nöronla oluştururken, '(100, 50)' parametresi iki gizli katmanı sırasıyla 100 ve 50 nöronla oluşturur.\n",
    "\n",
    "### activation: Bu parametre, gizli katmanlarda kullanılacak aktivasyon işlevini belirler. Örnek olarak, 'logistic' (lojistik sigmoid), 'relu' (rectified linear unit), 'tanh' (hiperbolik tanjant) gibi değerler alabilir.\n",
    "\n",
    "### solver: Bu parametre, ağırlıkların optimize edilmesi için kullanılacak optimizasyon algoritmasını belirler. Örnek olarak, 'adam' (Stochastic Gradient Descent), 'lbfgs' (Broyden-Fletcher-Goldfarb-Shanno) veya 'sgd' (Stochastic Gradient Descent) gibi değerler alabilir.\n",
    "\n",
    "### alpha: Bu parametre, ağın düzenlileştirme (regularization) katsayısını belirler. Düzenlileştirme, ağın aşırı uyum (overfitting) yapmasını engellemek için kullanılır. \n",
    "\n",
    "### learning_rate: Bu parametre, ağırlık güncellemelerinde kullanılacak öğrenme hızını belirler. 'constant' (sabit), 'invscaling' (ters ölçeklendirme) veya 'adaptive' (uyarlama) gibi değerler alabilir.\n",
    "\n",
    "### max_iter: Bu parametre, ağın maksimum iterasyon sayısını belirler. Eğitim sırasında ağın ne kadar süreyle çalışacağını kontrol etmek için kullanılır.\n",
    "\n",
    "### batch_size: Bu parametre, ağırlık güncellemelerinde kullanılacak veri yığınlarının boyutunu belirler. Büyük veri setlerinde bellek kullanımını azaltmak ve eğitim süresini hızlandırmak için kullanılır.\n",
    "\n",
    "### learning_rate_init: Bu parametre, başlangıç öğrenme hızını belirler. Eğitim başladığında kullanılacak öğrenme hızını ifade eder.\n",
    "\n",
    "### power_t: Bu parametre, öğrenme hızının invscaling yönteminde kullanılan üs değeridir. Invscaling, her iterasyonda öğrenme hızını azaltmak için kullanılır.\n",
    "\n",
    "### momentum: Bu parametre, momentum algoritmasının hızını belirler. Momentum, ağırlık güncellemelerindeki hızı korumak ve yerel minimumlardan kaçınmak için kullanılır.\n",
    "\n",
    "### early_stopping: Bu parametre, erken durdurma stratejisini etkinleştirir veya devre dışı bırakır. Eğer 'True' olarak ayarlanırsa, eğitim süreci, doğrulama skoru artık iyileşmediğinde otomatik olarak durdurulur.\n",
    "\n",
    "### validation_fraction: Bu parametre, erken durdurma için ayrılan doğrulama veri oranını belirler. Eğitim veri setinin bu oranı kadarı, erken durdurma için kullanılır.\n",
    "\n",
    "### beta_1 ve beta_2: Bu parametreler, adam optimize edici algoritması için eksponansiyel azalma hızlarını belirler. Adam, stokastik gradyan inişi algoritmasının bir türevidir.\n",
    "\n",
    "### shuffle: Bu parametre, her eğitim döngüsünde veri setinin karıştırılıp karıştırılmayacağını belirler. Eğer 'True' olarak ayarlanırsa, her döngüde veri seti yeniden karıştırılır.\n",
    "\n",
    "### Bu parametreler, MLPRegressor modelinin davranışını ve performansını etkileyen önemli faktörlerdir. Uygun parametre ayarları, modelin eğitim süreci, genelleyici yetenekleri ve hızı üzerinde büyük bir etkiye sahip olabilir. Uygulamamızın gereksinimlerine ve veri setine bağlı olarak bu parametreleri ayarlamak önemlidir."
   ]
  }
 ],
 "metadata": {
  "kernelspec": {
   "display_name": "Python 3 (ipykernel)",
   "language": "python",
   "name": "python3"
  },
  "language_info": {
   "codemirror_mode": {
    "name": "ipython",
    "version": 3
   },
   "file_extension": ".py",
   "mimetype": "text/x-python",
   "name": "python",
   "nbconvert_exporter": "python",
   "pygments_lexer": "ipython3",
   "version": "3.9.12"
  }
 },
 "nbformat": 4,
 "nbformat_minor": 5
}
